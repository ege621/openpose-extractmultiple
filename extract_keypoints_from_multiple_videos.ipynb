{
 "cells": [
  {
   "cell_type": "markdown",
   "id": "4605d7a4",
   "metadata": {},
   "source": [
    "# Define paths and store he list of videos and jsons in arrays"
   ]
  },
  {
   "cell_type": "code",
   "execution_count": 1,
   "id": "b7ef1db9",
   "metadata": {},
   "outputs": [
    {
     "data": {
      "text/plain": [
       "86"
      ]
     },
     "execution_count": 1,
     "metadata": {},
     "output_type": "execute_result"
    }
   ],
   "source": [
    "import os \n",
    "import subprocess\n",
    "video_dir = 'new_videos/'\n",
    "json_dir = 'new_jsons/'\n",
    "video_list = []\n",
    "json_list = []\n",
    "video_list = os.listdir(video_dir)\n",
    "\n",
    "len(video_list)"
   ]
  },
  {
   "cell_type": "markdown",
   "id": "9bde8d56",
   "metadata": {},
   "source": [
    "# This creates a json folder for each video for the json files to be stored"
   ]
  },
  {
   "cell_type": "markdown",
   "id": "06ca23f8",
   "metadata": {},
   "source": [
    "# Do not run this if you already have "
   ]
  },
  {
   "cell_type": "code",
   "execution_count": 2,
   "id": "2b132832",
   "metadata": {},
   "outputs": [],
   "source": [
    "for i in video_list:\n",
    "    os.makedirs(os.path.join(json_dir,str(i)))\n"
   ]
  },
  {
   "cell_type": "code",
   "execution_count": 3,
   "id": "bdb6c0e6",
   "metadata": {},
   "outputs": [],
   "source": [
    "json_list = os.listdir(json_dir)"
   ]
  },
  {
   "cell_type": "code",
   "execution_count": 4,
   "id": "99e3909b",
   "metadata": {
    "scrolled": true
   },
   "outputs": [
    {
     "data": {
      "text/plain": [
       "['Aidan TULLY, 424 – Prix de Lausanne 2023 – Classical [xXJzJnnawUA].mp4',\n",
       " 'Albane Fro - 2015 Prix de Lausanne selections - Classical variation [H0FdNeL-PK4].mp4',\n",
       " 'Alexander MOCKRISH, 212 –  Prix de Lausanne 2023 Finalist – Classical [6VdYAe1EXHo].mp4',\n",
       " 'Amaury ZANETE PÉREZ, 421 – Prix de Lausanne 2023 Finalist – Classical [daGwfnkZKt0].mp4',\n",
       " 'Amaury ZANETE PÉREZ, 421 – Prix de Lausanne 2023 Finalist – Contemporary [40c8LGoUY1A].mp4',\n",
       " 'Amy RONNFELDT, 316 – Prix de Lausanne 2022 Prize Winner – Contemporary [xVChtE33a24].mp4',\n",
       " 'Ana Luisa Negrão, 103 – Prix de Lausanne 2020 – Classical [YqumRkp5zoI].mp4',\n",
       " 'Ana Luisa NEGRÃO, 314 – Prix de Lausanne 2023 Prize Winner – Contemporary [rY9PDSfEjUk].mp4',\n",
       " 'Anna Casasola Fontseca - Selection 2012 - Classical Variations [1iTk0asLz4M].mp4',\n",
       " 'Anya DONAGHY, 109 – Prix de Lausanne 2023 – Classical [7k-p9VIUoLo].mp4',\n",
       " 'Aoi TAKAHASHI, 422 – Classical [gnbdtfgo89A].mp4',\n",
       " 'Ava Arbuckle, 102 – Prix de Lausanne 2020 – Classical [E4PxtevZItE].mp4',\n",
       " 'Bianca Scudamore - 2015 Prix de Lausanne Finalist - Contemporary variation [2Xt4FrrREXA].mp4',\n",
       " 'Brooke Ray - Selection 2012 - Classical Variations [Qx1Z5rfGId8].mp4',\n",
       " 'Christopher MCGOWAN, 419 –Prix de Lausanne 2023 – Classical [m2uddpAcgi0].mp4',\n",
       " 'Chun Hung Yan, 207 –\\xa0Prix de Lausanne 2020 – Classical [BTjdFFr0Fi0].mp4',\n",
       " 'Clair de Lune - young dancer pointe solo - 2018 [iys5RlANmmE].mp4',\n",
       " 'Clara Thiele, 104 – Prix de Lausanne 2020, Classical [w8GbwJ5TyTo].mp4',\n",
       " 'Cooper Cridland Hayes - 2015 Prix de Lausanne selections - Contemporary variation [3KAYcvb2rXI].mp4',\n",
       " 'Dance of the Sugar Plum Fairy from The Nutcracker (The Royal Ballet) [zV1qLYukTH8].mp4',\n",
       " 'Daniela Oddi - Selection 2012 - Classical Variations [Q3BdxUnOQPg].mp4',\n",
       " 'Dorian PLASSE, 406 – Prix de Lausanne 2022 Prize Winner – Contemporary [Pu4F2YaF5YM].mp4',\n",
       " 'Douglas Richard de Almeida Lima -  2012 Selections - Contemporary Variations [G3M5ByoXTjA].mp4',\n",
       " 'Ellen Williams - Contemporary Ballet [D62LexEwjdI].mp4',\n",
       " 'Emily Koe, 107 – Prix de Lausanne 2020, Classical [-KDghIGGEUA].mp4',\n",
       " 'Emily SPROUT, 114 – Prix de Lausanne 2023 Prize Winner – Classical [SusnfeoSFE0].mp4',\n",
       " 'Eneko Amoros Zaragoza - Selection 2012 - Classical Variations [UU0MZ23tUlg].mp4',\n",
       " 'Fabrizzio ULLOA CORNEJO, 210 – Prix de Lausanne 2023 Prize Winner – Classical [9EzmHO1HTTY].mp4',\n",
       " 'Fabrizzio ULLOA CORNEJO, 210 – Prix de Lausanne 2023 Prize Winner – Contemporary [UbwkweO6Kms].mp4',\n",
       " 'Finals 2010 - Classical Variation - Alexandra Valavanis [BOTRGKpUtHc].mp4',\n",
       " 'Francisco Gomes, 219 - Prix de Lausanne 2021 - Classical [_AnT8ZjGGbg].mp4',\n",
       " 'Frederick STUCKWISH, 414– Prix de Lausanne 2023 – Classical [3x_Rf9oqA14].mp4',\n",
       " 'Giulia CACCIATORI, 321 – Prix de Lausanne 2023 – Classical [7Vi-evtfrIM].mp4',\n",
       " 'Giuseppe VENTURA, 413 – Prix de Lausanne 2023 Prize Winner – Classical [A-LVms4aego].mp4',\n",
       " 'Hamin PARK, 307 – Prix de Lausanne 2023 –Classical [NDC4flOQWbM].mp4',\n",
       " 'Harrison Lee - 2015 Prix de Lausanne Prize Winner - Classical Variation [SO-1FvQnFbY].mp4',\n",
       " 'Haru YOKOO, 303 – Prix de Lausanne 2023 – Contemporary [D9dSVwyhAjc].mp4',\n",
       " 'Haruka TANABE, 317 – Prix de Lausanne 2023 –Classical [Vv9N5CCRjJI].mp4',\n",
       " 'Heewon MOON, 117 – Prix de Lausanne 2022 Finalist – Classical [r37YS5xozss].mp4',\n",
       " 'Isabella Smith, 101 – Prix de Lausanne 2020 – Classical [wpG9JaWwmUA].mp4',\n",
       " 'Jeongwoo MUN, 208 – Prix de Lausanne 2022 Finalist – Classical [VjCEmli2KRY].mp4',\n",
       " 'Julie JOYNER, 310 – Prix de Lausanne 2023 Prize Winner – Classical [xsgAgMaccx0].mp4',\n",
       " 'Keara Nichols, 124 –\\xa0Prix de Lausanne 2020 – Classical [u_dlVc4kB-k].mp4',\n",
       " 'Keisuke MIYAZAKI, 201 – Prix de Lausanne 2023 Prize Winner – Classical [KqN_X1JB9sM].mp4',\n",
       " 'Kenta SHIMANAGA, 203  – Prix de Lausanne 2023 – Classical [p1yLm-tIv2Y].mp4',\n",
       " 'Kiely Groenewegen - 2013 Selections - Contemporary Variation [Fu8S1l1MHC8].mp4',\n",
       " 'Lexi MCCLOUD, 309 – Prix de Lausanne 2022 Finalist – Classical [rwHLoDX4h1M].mp4',\n",
       " 'Lin Zhang, 307 – Prix de Lausanne 2020 Prize Winner – Classical [VIgwPAiV4ZE].mp4',\n",
       " 'Madison TABERHAM, 118 – Prix de Lausanne 2022 [ceum-v0NQVM].mp4',\n",
       " 'Mayfield Myers, 238 - Prix de Lausanne 2021 - Contemporary [0xz9NXw8CmM].mp4',\n",
       " 'Mengjie Zou, 240 - Prix de Lausanne 2021 - Contemporary [OoY_I3lqzvw].mp4',\n",
       " 'Pengxiang Sun, 242 - Prix de Lausanne 2021 - Classical [uNB94XxZHdw].mp4',\n",
       " 'Prix de Lausanne 2011 - Classical Selections - Hanbin Tu [nl0BUh_56Mw].mp4',\n",
       " 'Prix de Lausanne 2011 - Classical Selections - Klara Martensson [BctnWr6sYdY].mp4',\n",
       " 'Prix de Lausanne 2011 - Classical Selections - Nikisha Fogo [OvR0wm_M294].mp4',\n",
       " 'Prix de Lausanne 2011 - Classical Selections - Saeka Shirai [1ABsoK0UVM4].mp4',\n",
       " 'Prix de Lausanne 2011 - Classical Selections - Saya Komine [fIitPelMEHE].mp4',\n",
       " 'Prix de Lausanne 2011 - Contemporary Selections - Liana Carpio [x3ckwyWkPyQ].mp4',\n",
       " 'Prix de Lausanne 2011 - Contemporary Selections - Rubén Alonso Almaro [u1kqFOHYyLU].mp4',\n",
       " 'Prix de Lausanne 2022 – Young Creation Award Finalist – Joshua Hunt [gwXoJUU7HVY].mp4',\n",
       " 'Prix de Lausanne 2022 – Young Creation Award Winner – Milla Loock [0eIRxAnkl2E].mp4',\n",
       " 'Rin MATSUMARU, 117 – Prix de Lausanne 2023 – Classical [7cjVlsCD2NQ].mp4',\n",
       " 'Romane CORNU, 105 – Prix de Lausanne 2023 – Classical [uH76Tqr9_G0].mp4',\n",
       " 'Sae Maeda - 2014 Prize Winner - Finals -  Classical Variation [0nK3UkA5H74].mp4',\n",
       " 'Samael Maurice, 224 - Prix de Lausanne 2021 - Classical [DVcbgw3SERc].mp4',\n",
       " 'Samira Bethke, 243 - Prix de Lausanne 2021 - Contemporary [lRCbHCAhgTc].mp4',\n",
       " 'Sangwon PARK, 320 – Prix de Lausanne 2023 Prize Winner – Classical [riT8c_L1t6w].mp4',\n",
       " 'Seehyun KIM, 309 – Prix de Lausanne 2023 Prize Winner – Classical [t4YkMRC13u4].mp4',\n",
       " 'Seehyun KIM, 309 – Prix de Lausanne 2023 Prize Winner – Contemporary [Ob4ZZhvcYns].mp4',\n",
       " 'Selections 2010 - Contemporary Variation - Jonathan de Araujo Batista [A9zztMxlbrA].mp4',\n",
       " 'Soo Min KIM, 318 – Prix de Lausanne 2023 Prize Winner – Classical [rrNJZIzndK8].mp4',\n",
       " 'Sooha PARK, 103 – Prix de Lausaanne 2023 Finalist – Classical [ikQgLkmH7SI].mp4',\n",
       " 'Sydney UPCHURCH, 115 – Prix de Lausanne 2022 [eYkECH1CQEw].mp4',\n",
       " 'The Red Shoes- Demi-character solo [x9czvC8KgNc].mp4',\n",
       " 'Tomotaro Sano - Selection 2012 - Classical Variations [sJLooPJsC7g].mp4',\n",
       " 'Vilnius Youth Ballet Competition 2017.Variation 7 [rB6ePcev5Lc].mp4',\n",
       " 'Wendel VIEIRA TELES, 206 – Prix de Lausanne 2023 Finalist – Classical [4_UHrYq35IA].mp4',\n",
       " 'William Dugan - 2013 Selections - Contemporary Variation [uz2X7bXE6hY].mp4',\n",
       " 'William GYVES, 204 – Prix de Lausanne 2023 Finalist – Contemporary [aLyU-80FWKg].mp4',\n",
       " 'William GYVES, 204 – Prix de Lausanne 2023 –Contemporary [RaRM1NXIOvk].mp4',\n",
       " 'Xuhao Zhang, 237 - Prix de Lausanne 2021 - Contemporary [qb1ZYsdXAPo].mp4',\n",
       " 'Ying He, 230 - Prix de Lausanne 2021 - Contemporary [JfeKjA_kVR8].mp4',\n",
       " 'Yuto SAKAMOTO, 412 – Prix de Lausanne 2023 – Classical [qm0M2ZyXfEE].mp4',\n",
       " 'Zhifang CHEN, 401 – Prix de Lausanne 2023 –Classical [EsNGHoJsdFs].mp4',\n",
       " '“I Endured” (Experience - Ludovico Einaudi) YAGP Contemporary Solo Top 12 [Zy-OXcT6T4g].mp4',\n",
       " '“Waves” - Contemporary Ballet at Master Ballet Academy [tugomyRk6-Q].mp4']"
      ]
     },
     "execution_count": 4,
     "metadata": {},
     "output_type": "execute_result"
    }
   ],
   "source": [
    "json_list"
   ]
  },
  {
   "cell_type": "code",
   "execution_count": 5,
   "id": "d9764c14",
   "metadata": {
    "scrolled": true
   },
   "outputs": [
    {
     "data": {
      "text/plain": [
       "['Aidan TULLY, 424 – Prix de Lausanne 2023 – Classical [xXJzJnnawUA].mp4',\n",
       " 'Albane Fro - 2015 Prix de Lausanne selections - Classical variation [H0FdNeL-PK4].mp4',\n",
       " 'Alexander MOCKRISH, 212 –  Prix de Lausanne 2023 Finalist – Classical [6VdYAe1EXHo].mp4',\n",
       " 'Amaury ZANETE PÉREZ, 421 – Prix de Lausanne 2023 Finalist – Classical [daGwfnkZKt0].mp4',\n",
       " 'Amaury ZANETE PÉREZ, 421 – Prix de Lausanne 2023 Finalist – Contemporary [40c8LGoUY1A].mp4',\n",
       " 'Amy RONNFELDT, 316 – Prix de Lausanne 2022 Prize Winner – Contemporary [xVChtE33a24].mp4',\n",
       " 'Ana Luisa Negrão, 103 – Prix de Lausanne 2020 – Classical [YqumRkp5zoI].mp4',\n",
       " 'Ana Luisa NEGRÃO, 314 – Prix de Lausanne 2023 Prize Winner – Contemporary [rY9PDSfEjUk].mp4',\n",
       " 'Anna Casasola Fontseca - Selection 2012 - Classical Variations [1iTk0asLz4M].mp4',\n",
       " 'Anya DONAGHY, 109 – Prix de Lausanne 2023 – Classical [7k-p9VIUoLo].mp4',\n",
       " 'Aoi TAKAHASHI, 422 – Classical [gnbdtfgo89A].mp4',\n",
       " 'Ava Arbuckle, 102 – Prix de Lausanne 2020 – Classical [E4PxtevZItE].mp4',\n",
       " 'Bianca Scudamore - 2015 Prix de Lausanne Finalist - Contemporary variation [2Xt4FrrREXA].mp4',\n",
       " 'Brooke Ray - Selection 2012 - Classical Variations [Qx1Z5rfGId8].mp4',\n",
       " 'Christopher MCGOWAN, 419 –Prix de Lausanne 2023 – Classical [m2uddpAcgi0].mp4',\n",
       " 'Chun Hung Yan, 207 –\\xa0Prix de Lausanne 2020 – Classical [BTjdFFr0Fi0].mp4',\n",
       " 'Clair de Lune - young dancer pointe solo - 2018 [iys5RlANmmE].mp4',\n",
       " 'Clara Thiele, 104 – Prix de Lausanne 2020, Classical [w8GbwJ5TyTo].mp4',\n",
       " 'Cooper Cridland Hayes - 2015 Prix de Lausanne selections - Contemporary variation [3KAYcvb2rXI].mp4',\n",
       " 'Dance of the Sugar Plum Fairy from The Nutcracker (The Royal Ballet) [zV1qLYukTH8].mp4',\n",
       " 'Daniela Oddi - Selection 2012 - Classical Variations [Q3BdxUnOQPg].mp4',\n",
       " 'Dorian PLASSE, 406 – Prix de Lausanne 2022 Prize Winner – Contemporary [Pu4F2YaF5YM].mp4',\n",
       " 'Douglas Richard de Almeida Lima -  2012 Selections - Contemporary Variations [G3M5ByoXTjA].mp4',\n",
       " 'Ellen Williams - Contemporary Ballet [D62LexEwjdI].mp4',\n",
       " 'Emily Koe, 107 – Prix de Lausanne 2020, Classical [-KDghIGGEUA].mp4',\n",
       " 'Emily SPROUT, 114 – Prix de Lausanne 2023 Prize Winner – Classical [SusnfeoSFE0].mp4',\n",
       " 'Eneko Amoros Zaragoza - Selection 2012 - Classical Variations [UU0MZ23tUlg].mp4',\n",
       " 'Fabrizzio ULLOA CORNEJO, 210 – Prix de Lausanne 2023 Prize Winner – Classical [9EzmHO1HTTY].mp4',\n",
       " 'Fabrizzio ULLOA CORNEJO, 210 – Prix de Lausanne 2023 Prize Winner – Contemporary [UbwkweO6Kms].mp4',\n",
       " 'Finals 2010 - Classical Variation - Alexandra Valavanis [BOTRGKpUtHc].mp4',\n",
       " 'Francisco Gomes, 219 - Prix de Lausanne 2021 - Classical [_AnT8ZjGGbg].mp4',\n",
       " 'Frederick STUCKWISH, 414– Prix de Lausanne 2023 – Classical [3x_Rf9oqA14].mp4',\n",
       " 'Giulia CACCIATORI, 321 – Prix de Lausanne 2023 – Classical [7Vi-evtfrIM].mp4',\n",
       " 'Giuseppe VENTURA, 413 – Prix de Lausanne 2023 Prize Winner – Classical [A-LVms4aego].mp4',\n",
       " 'Hamin PARK, 307 – Prix de Lausanne 2023 –Classical [NDC4flOQWbM].mp4',\n",
       " 'Harrison Lee - 2015 Prix de Lausanne Prize Winner - Classical Variation [SO-1FvQnFbY].mp4',\n",
       " 'Haru YOKOO, 303 – Prix de Lausanne 2023 – Contemporary [D9dSVwyhAjc].mp4',\n",
       " 'Haruka TANABE, 317 – Prix de Lausanne 2023 –Classical [Vv9N5CCRjJI].mp4',\n",
       " 'Heewon MOON, 117 – Prix de Lausanne 2022 Finalist – Classical [r37YS5xozss].mp4',\n",
       " 'Isabella Smith, 101 – Prix de Lausanne 2020 – Classical [wpG9JaWwmUA].mp4',\n",
       " 'Jeongwoo MUN, 208 – Prix de Lausanne 2022 Finalist – Classical [VjCEmli2KRY].mp4',\n",
       " 'Julie JOYNER, 310 – Prix de Lausanne 2023 Prize Winner – Classical [xsgAgMaccx0].mp4',\n",
       " 'Keara Nichols, 124 –\\xa0Prix de Lausanne 2020 – Classical [u_dlVc4kB-k].mp4',\n",
       " 'Keisuke MIYAZAKI, 201 – Prix de Lausanne 2023 Prize Winner – Classical [KqN_X1JB9sM].mp4',\n",
       " 'Kenta SHIMANAGA, 203  – Prix de Lausanne 2023 – Classical [p1yLm-tIv2Y].mp4',\n",
       " 'Kiely Groenewegen - 2013 Selections - Contemporary Variation [Fu8S1l1MHC8].mp4',\n",
       " 'Lexi MCCLOUD, 309 – Prix de Lausanne 2022 Finalist – Classical [rwHLoDX4h1M].mp4',\n",
       " 'Lin Zhang, 307 – Prix de Lausanne 2020 Prize Winner – Classical [VIgwPAiV4ZE].mp4',\n",
       " 'Madison TABERHAM, 118 – Prix de Lausanne 2022 [ceum-v0NQVM].mp4',\n",
       " 'Mayfield Myers, 238 - Prix de Lausanne 2021 - Contemporary [0xz9NXw8CmM].mp4',\n",
       " 'Mengjie Zou, 240 - Prix de Lausanne 2021 - Contemporary [OoY_I3lqzvw].mp4',\n",
       " 'Pengxiang Sun, 242 - Prix de Lausanne 2021 - Classical [uNB94XxZHdw].mp4',\n",
       " 'Prix de Lausanne 2011 - Classical Selections - Hanbin Tu [nl0BUh_56Mw].mp4',\n",
       " 'Prix de Lausanne 2011 - Classical Selections - Klara Martensson [BctnWr6sYdY].mp4',\n",
       " 'Prix de Lausanne 2011 - Classical Selections - Nikisha Fogo [OvR0wm_M294].mp4',\n",
       " 'Prix de Lausanne 2011 - Classical Selections - Saeka Shirai [1ABsoK0UVM4].mp4',\n",
       " 'Prix de Lausanne 2011 - Classical Selections - Saya Komine [fIitPelMEHE].mp4',\n",
       " 'Prix de Lausanne 2011 - Contemporary Selections - Liana Carpio [x3ckwyWkPyQ].mp4',\n",
       " 'Prix de Lausanne 2011 - Contemporary Selections - Rubén Alonso Almaro [u1kqFOHYyLU].mp4',\n",
       " 'Prix de Lausanne 2022 – Young Creation Award Finalist – Joshua Hunt [gwXoJUU7HVY].mp4',\n",
       " 'Prix de Lausanne 2022 – Young Creation Award Winner – Milla Loock [0eIRxAnkl2E].mp4',\n",
       " 'Rin MATSUMARU, 117 – Prix de Lausanne 2023 – Classical [7cjVlsCD2NQ].mp4',\n",
       " 'Romane CORNU, 105 – Prix de Lausanne 2023 – Classical [uH76Tqr9_G0].mp4',\n",
       " 'Sae Maeda - 2014 Prize Winner - Finals -  Classical Variation [0nK3UkA5H74].mp4',\n",
       " 'Samael Maurice, 224 - Prix de Lausanne 2021 - Classical [DVcbgw3SERc].mp4',\n",
       " 'Samira Bethke, 243 - Prix de Lausanne 2021 - Contemporary [lRCbHCAhgTc].mp4',\n",
       " 'Sangwon PARK, 320 – Prix de Lausanne 2023 Prize Winner – Classical [riT8c_L1t6w].mp4',\n",
       " 'Seehyun KIM, 309 – Prix de Lausanne 2023 Prize Winner – Classical [t4YkMRC13u4].mp4',\n",
       " 'Seehyun KIM, 309 – Prix de Lausanne 2023 Prize Winner – Contemporary [Ob4ZZhvcYns].mp4',\n",
       " 'Selections 2010 - Contemporary Variation - Jonathan de Araujo Batista [A9zztMxlbrA].mp4',\n",
       " 'Soo Min KIM, 318 – Prix de Lausanne 2023 Prize Winner – Classical [rrNJZIzndK8].mp4',\n",
       " 'Sooha PARK, 103 – Prix de Lausaanne 2023 Finalist – Classical [ikQgLkmH7SI].mp4',\n",
       " 'Sydney UPCHURCH, 115 – Prix de Lausanne 2022 [eYkECH1CQEw].mp4',\n",
       " 'The Red Shoes- Demi-character solo [x9czvC8KgNc].mp4',\n",
       " 'Tomotaro Sano - Selection 2012 - Classical Variations [sJLooPJsC7g].mp4',\n",
       " 'Vilnius Youth Ballet Competition 2017.Variation 7 [rB6ePcev5Lc].mp4',\n",
       " 'Wendel VIEIRA TELES, 206 – Prix de Lausanne 2023 Finalist – Classical [4_UHrYq35IA].mp4',\n",
       " 'William Dugan - 2013 Selections - Contemporary Variation [uz2X7bXE6hY].mp4',\n",
       " 'William GYVES, 204 – Prix de Lausanne 2023 Finalist – Contemporary [aLyU-80FWKg].mp4',\n",
       " 'William GYVES, 204 – Prix de Lausanne 2023 –Contemporary [RaRM1NXIOvk].mp4',\n",
       " 'Xuhao Zhang, 237 - Prix de Lausanne 2021 - Contemporary [qb1ZYsdXAPo].mp4',\n",
       " 'Ying He, 230 - Prix de Lausanne 2021 - Contemporary [JfeKjA_kVR8].mp4',\n",
       " 'Yuto SAKAMOTO, 412 – Prix de Lausanne 2023 – Classical [qm0M2ZyXfEE].mp4',\n",
       " 'Zhifang CHEN, 401 – Prix de Lausanne 2023 –Classical [EsNGHoJsdFs].mp4',\n",
       " '“I Endured” (Experience - Ludovico Einaudi) YAGP Contemporary Solo Top 12 [Zy-OXcT6T4g].mp4',\n",
       " '“Waves” - Contemporary Ballet at Master Ballet Academy [tugomyRk6-Q].mp4']"
      ]
     },
     "execution_count": 5,
     "metadata": {},
     "output_type": "execute_result"
    }
   ],
   "source": [
    "video_list"
   ]
  },
  {
   "cell_type": "markdown",
   "id": "1e7d17b5",
   "metadata": {},
   "source": [
    "# Check if video names and json folders are corresponding to each other"
   ]
  },
  {
   "cell_type": "code",
   "execution_count": 6,
   "id": "1fbcf588",
   "metadata": {},
   "outputs": [
    {
     "name": "stdout",
     "output_type": "stream",
     "text": [
      "All videos and json file names are matching\n"
     ]
    }
   ],
   "source": [
    "if video_list[0] == json_list[0] and video_list[6] == json_list[6] and video_list[-1] == json_list[-1]:\n",
    "    print (\"All videos and json file names are matching\")\n",
    "\n",
    "else:\n",
    "    print(\"Please recreate your json folders and check for junk files or .mp4 in videos and json folders\")"
   ]
  },
  {
   "cell_type": "code",
   "execution_count": 7,
   "id": "fda2b492",
   "metadata": {},
   "outputs": [
    {
     "name": "stdout",
     "output_type": "stream",
     "text": [
      "Processing video: Aidan TULLY, 424 – Prix de Lausanne 2023 – Classical [xXJzJnnawUA].mp4. 1 out of 86 videos processed\n",
      "Processing video: Albane Fro - 2015 Prix de Lausanne selections - Classical variation [H0FdNeL-PK4].mp4. 2 out of 86 videos processed\n",
      "Processing video: Alexander MOCKRISH, 212 –  Prix de Lausanne 2023 Finalist – Classical [6VdYAe1EXHo].mp4. 3 out of 86 videos processed\n",
      "Processing video: Amaury ZANETE PÉREZ, 421 – Prix de Lausanne 2023 Finalist – Classical [daGwfnkZKt0].mp4. 4 out of 86 videos processed\n",
      "Processing video: Amaury ZANETE PÉREZ, 421 – Prix de Lausanne 2023 Finalist – Contemporary [40c8LGoUY1A].mp4. 5 out of 86 videos processed\n",
      "Processing video: Amy RONNFELDT, 316 – Prix de Lausanne 2022 Prize Winner – Contemporary [xVChtE33a24].mp4. 6 out of 86 videos processed\n",
      "Processing video: Ana Luisa Negrão, 103 – Prix de Lausanne 2020 – Classical [YqumRkp5zoI].mp4. 7 out of 86 videos processed\n",
      "Processing video: Ana Luisa NEGRÃO, 314 – Prix de Lausanne 2023 Prize Winner – Contemporary [rY9PDSfEjUk].mp4. 8 out of 86 videos processed\n",
      "Processing video: Anna Casasola Fontseca - Selection 2012 - Classical Variations [1iTk0asLz4M].mp4. 9 out of 86 videos processed\n",
      "Processing video: Anya DONAGHY, 109 – Prix de Lausanne 2023 – Classical [7k-p9VIUoLo].mp4. 10 out of 86 videos processed\n",
      "Processing video: Aoi TAKAHASHI, 422 – Classical [gnbdtfgo89A].mp4. 11 out of 86 videos processed\n",
      "Processing video: Ava Arbuckle, 102 – Prix de Lausanne 2020 – Classical [E4PxtevZItE].mp4. 12 out of 86 videos processed\n",
      "Processing video: Bianca Scudamore - 2015 Prix de Lausanne Finalist - Contemporary variation [2Xt4FrrREXA].mp4. 13 out of 86 videos processed\n",
      "Processing video: Brooke Ray - Selection 2012 - Classical Variations [Qx1Z5rfGId8].mp4. 14 out of 86 videos processed\n",
      "Processing video: Christopher MCGOWAN, 419 –Prix de Lausanne 2023 – Classical [m2uddpAcgi0].mp4. 15 out of 86 videos processed\n",
      "Processing video: Chun Hung Yan, 207 – Prix de Lausanne 2020 – Classical [BTjdFFr0Fi0].mp4. 16 out of 86 videos processed\n",
      "Processing video: Clair de Lune - young dancer pointe solo - 2018 [iys5RlANmmE].mp4. 17 out of 86 videos processed\n",
      "Processing video: Clara Thiele, 104 – Prix de Lausanne 2020, Classical [w8GbwJ5TyTo].mp4. 18 out of 86 videos processed\n",
      "Processing video: Cooper Cridland Hayes - 2015 Prix de Lausanne selections - Contemporary variation [3KAYcvb2rXI].mp4. 19 out of 86 videos processed\n",
      "Processing video: Dance of the Sugar Plum Fairy from The Nutcracker (The Royal Ballet) [zV1qLYukTH8].mp4. 20 out of 86 videos processed\n",
      "Processing video: Daniela Oddi - Selection 2012 - Classical Variations [Q3BdxUnOQPg].mp4. 21 out of 86 videos processed\n",
      "Processing video: Dorian PLASSE, 406 – Prix de Lausanne 2022 Prize Winner – Contemporary [Pu4F2YaF5YM].mp4. 22 out of 86 videos processed\n",
      "Processing video: Douglas Richard de Almeida Lima -  2012 Selections - Contemporary Variations [G3M5ByoXTjA].mp4. 23 out of 86 videos processed\n",
      "Processing video: Ellen Williams - Contemporary Ballet [D62LexEwjdI].mp4. 24 out of 86 videos processed\n",
      "Processing video: Emily Koe, 107 – Prix de Lausanne 2020, Classical [-KDghIGGEUA].mp4. 25 out of 86 videos processed\n",
      "Processing video: Emily SPROUT, 114 – Prix de Lausanne 2023 Prize Winner – Classical [SusnfeoSFE0].mp4. 26 out of 86 videos processed\n",
      "Processing video: Eneko Amoros Zaragoza - Selection 2012 - Classical Variations [UU0MZ23tUlg].mp4. 27 out of 86 videos processed\n",
      "Processing video: Fabrizzio ULLOA CORNEJO, 210 – Prix de Lausanne 2023 Prize Winner – Classical [9EzmHO1HTTY].mp4. 28 out of 86 videos processed\n",
      "Processing video: Fabrizzio ULLOA CORNEJO, 210 – Prix de Lausanne 2023 Prize Winner – Contemporary [UbwkweO6Kms].mp4. 29 out of 86 videos processed\n",
      "Processing video: Finals 2010 - Classical Variation - Alexandra Valavanis [BOTRGKpUtHc].mp4. 30 out of 86 videos processed\n",
      "Processing video: Francisco Gomes, 219 - Prix de Lausanne 2021 - Classical [_AnT8ZjGGbg].mp4. 31 out of 86 videos processed\n",
      "Processing video: Frederick STUCKWISH, 414– Prix de Lausanne 2023 – Classical [3x_Rf9oqA14].mp4. 32 out of 86 videos processed\n",
      "Processing video: Giulia CACCIATORI, 321 – Prix de Lausanne 2023 – Classical [7Vi-evtfrIM].mp4. 33 out of 86 videos processed\n",
      "Processing video: Giuseppe VENTURA, 413 – Prix de Lausanne 2023 Prize Winner – Classical [A-LVms4aego].mp4. 34 out of 86 videos processed\n",
      "Processing video: Hamin PARK, 307 – Prix de Lausanne 2023 –Classical [NDC4flOQWbM].mp4. 35 out of 86 videos processed\n",
      "Processing video: Harrison Lee - 2015 Prix de Lausanne Prize Winner - Classical Variation [SO-1FvQnFbY].mp4. 36 out of 86 videos processed\n",
      "Processing video: Haru YOKOO, 303 – Prix de Lausanne 2023 – Contemporary [D9dSVwyhAjc].mp4. 37 out of 86 videos processed\n",
      "Processing video: Haruka TANABE, 317 – Prix de Lausanne 2023 –Classical [Vv9N5CCRjJI].mp4. 38 out of 86 videos processed\n",
      "Processing video: Heewon MOON, 117 – Prix de Lausanne 2022 Finalist – Classical [r37YS5xozss].mp4. 39 out of 86 videos processed\n",
      "Processing video: Isabella Smith, 101 – Prix de Lausanne 2020 – Classical [wpG9JaWwmUA].mp4. 40 out of 86 videos processed\n",
      "Processing video: Jeongwoo MUN, 208 – Prix de Lausanne 2022 Finalist – Classical [VjCEmli2KRY].mp4. 41 out of 86 videos processed\n",
      "Processing video: Julie JOYNER, 310 – Prix de Lausanne 2023 Prize Winner – Classical [xsgAgMaccx0].mp4. 42 out of 86 videos processed\n",
      "Processing video: Keara Nichols, 124 – Prix de Lausanne 2020 – Classical [u_dlVc4kB-k].mp4. 43 out of 86 videos processed\n",
      "Processing video: Keisuke MIYAZAKI, 201 – Prix de Lausanne 2023 Prize Winner – Classical [KqN_X1JB9sM].mp4. 44 out of 86 videos processed\n",
      "Processing video: Kenta SHIMANAGA, 203  – Prix de Lausanne 2023 – Classical [p1yLm-tIv2Y].mp4. 45 out of 86 videos processed\n",
      "Processing video: Kiely Groenewegen - 2013 Selections - Contemporary Variation [Fu8S1l1MHC8].mp4. 46 out of 86 videos processed\n",
      "Processing video: Lexi MCCLOUD, 309 – Prix de Lausanne 2022 Finalist – Classical [rwHLoDX4h1M].mp4. 47 out of 86 videos processed\n",
      "Processing video: Lin Zhang, 307 – Prix de Lausanne 2020 Prize Winner – Classical [VIgwPAiV4ZE].mp4. 48 out of 86 videos processed\n",
      "Processing video: Madison TABERHAM, 118 – Prix de Lausanne 2022 [ceum-v0NQVM].mp4. 49 out of 86 videos processed\n",
      "Processing video: Mayfield Myers, 238 - Prix de Lausanne 2021 - Contemporary [0xz9NXw8CmM].mp4. 50 out of 86 videos processed\n",
      "Processing video: Mengjie Zou, 240 - Prix de Lausanne 2021 - Contemporary [OoY_I3lqzvw].mp4. 51 out of 86 videos processed\n",
      "Processing video: Pengxiang Sun, 242 - Prix de Lausanne 2021 - Classical [uNB94XxZHdw].mp4. 52 out of 86 videos processed\n",
      "Processing video: Prix de Lausanne 2011 - Classical Selections - Hanbin Tu [nl0BUh_56Mw].mp4. 53 out of 86 videos processed\n",
      "Processing video: Prix de Lausanne 2011 - Classical Selections - Klara Martensson [BctnWr6sYdY].mp4. 54 out of 86 videos processed\n",
      "Processing video: Prix de Lausanne 2011 - Classical Selections - Nikisha Fogo [OvR0wm_M294].mp4. 55 out of 86 videos processed\n",
      "Processing video: Prix de Lausanne 2011 - Classical Selections - Saeka Shirai [1ABsoK0UVM4].mp4. 56 out of 86 videos processed\n",
      "Processing video: Prix de Lausanne 2011 - Classical Selections - Saya Komine [fIitPelMEHE].mp4. 57 out of 86 videos processed\n",
      "Processing video: Prix de Lausanne 2011 - Contemporary Selections - Liana Carpio [x3ckwyWkPyQ].mp4. 58 out of 86 videos processed\n",
      "Processing video: Prix de Lausanne 2011 - Contemporary Selections - Rubén Alonso Almaro [u1kqFOHYyLU].mp4. 59 out of 86 videos processed\n",
      "Processing video: Prix de Lausanne 2022 – Young Creation Award Finalist – Joshua Hunt [gwXoJUU7HVY].mp4. 60 out of 86 videos processed\n",
      "Processing video: Prix de Lausanne 2022 – Young Creation Award Winner – Milla Loock [0eIRxAnkl2E].mp4. 61 out of 86 videos processed\n",
      "Processing video: Rin MATSUMARU, 117 – Prix de Lausanne 2023 – Classical [7cjVlsCD2NQ].mp4. 62 out of 86 videos processed\n",
      "Processing video: Romane CORNU, 105 – Prix de Lausanne 2023 – Classical [uH76Tqr9_G0].mp4. 63 out of 86 videos processed\n",
      "Processing video: Sae Maeda - 2014 Prize Winner - Finals -  Classical Variation [0nK3UkA5H74].mp4. 64 out of 86 videos processed\n"
     ]
    },
    {
     "name": "stdout",
     "output_type": "stream",
     "text": [
      "Processing video: Samael Maurice, 224 - Prix de Lausanne 2021 - Classical [DVcbgw3SERc].mp4. 65 out of 86 videos processed\n",
      "Processing video: Samira Bethke, 243 - Prix de Lausanne 2021 - Contemporary [lRCbHCAhgTc].mp4. 66 out of 86 videos processed\n",
      "Processing video: Sangwon PARK, 320 – Prix de Lausanne 2023 Prize Winner – Classical [riT8c_L1t6w].mp4. 67 out of 86 videos processed\n",
      "Processing video: Seehyun KIM, 309 – Prix de Lausanne 2023 Prize Winner – Classical [t4YkMRC13u4].mp4. 68 out of 86 videos processed\n",
      "Processing video: Seehyun KIM, 309 – Prix de Lausanne 2023 Prize Winner – Contemporary [Ob4ZZhvcYns].mp4. 69 out of 86 videos processed\n",
      "Processing video: Selections 2010 - Contemporary Variation - Jonathan de Araujo Batista [A9zztMxlbrA].mp4. 70 out of 86 videos processed\n",
      "Processing video: Soo Min KIM, 318 – Prix de Lausanne 2023 Prize Winner – Classical [rrNJZIzndK8].mp4. 71 out of 86 videos processed\n",
      "Processing video: Sooha PARK, 103 – Prix de Lausaanne 2023 Finalist – Classical [ikQgLkmH7SI].mp4. 72 out of 86 videos processed\n",
      "Processing video: Sydney UPCHURCH, 115 – Prix de Lausanne 2022 [eYkECH1CQEw].mp4. 73 out of 86 videos processed\n",
      "Processing video: The Red Shoes- Demi-character solo [x9czvC8KgNc].mp4. 74 out of 86 videos processed\n",
      "Processing video: Tomotaro Sano - Selection 2012 - Classical Variations [sJLooPJsC7g].mp4. 75 out of 86 videos processed\n",
      "Processing video: Vilnius Youth Ballet Competition 2017.Variation 7 [rB6ePcev5Lc].mp4. 76 out of 86 videos processed\n",
      "Processing video: Wendel VIEIRA TELES, 206 – Prix de Lausanne 2023 Finalist – Classical [4_UHrYq35IA].mp4. 77 out of 86 videos processed\n",
      "Processing video: William Dugan - 2013 Selections - Contemporary Variation [uz2X7bXE6hY].mp4. 78 out of 86 videos processed\n",
      "Processing video: William GYVES, 204 – Prix de Lausanne 2023 Finalist – Contemporary [aLyU-80FWKg].mp4. 79 out of 86 videos processed\n",
      "Processing video: William GYVES, 204 – Prix de Lausanne 2023 –Contemporary [RaRM1NXIOvk].mp4. 80 out of 86 videos processed\n",
      "Processing video: Xuhao Zhang, 237 - Prix de Lausanne 2021 - Contemporary [qb1ZYsdXAPo].mp4. 81 out of 86 videos processed\n",
      "Processing video: Ying He, 230 - Prix de Lausanne 2021 - Contemporary [JfeKjA_kVR8].mp4. 82 out of 86 videos processed\n",
      "Processing video: Yuto SAKAMOTO, 412 – Prix de Lausanne 2023 – Classical [qm0M2ZyXfEE].mp4. 83 out of 86 videos processed\n",
      "Processing video: Zhifang CHEN, 401 – Prix de Lausanne 2023 –Classical [EsNGHoJsdFs].mp4. 84 out of 86 videos processed\n",
      "Processing video: “I Endured” (Experience - Ludovico Einaudi) YAGP Contemporary Solo Top 12 [Zy-OXcT6T4g].mp4. 85 out of 86 videos processed\n",
      "Processing video: “Waves” - Contemporary Ballet at Master Ballet Academy [tugomyRk6-Q].mp4. 86 out of 86 videos processed\n"
     ]
    }
   ],
   "source": [
    "for i in range(len(video_list)):\n",
    "    print(\"Processing video: {}. {} out of {} videos processed\".format(video_list[i] , i+1 , len(video_list)))\n",
    "    subprocess.run([\"bin\\OpenPoseDemo.exe\" , \"--video\" , video_dir+\"/\"+video_list[i] ,\"--net_resolution\" , \"656x368\" , \"--keypoint_scale\" , \"3\" , \"--write_video\" , json_dir+\"/\"+json_list[i] + \".avi\" , \"--write_json\" , json_dir + \"/\" + json_list[i]] , shell = True,capture_output = True , text = True)"
   ]
  },
  {
   "cell_type": "code",
   "execution_count": null,
   "id": "d9d4e0a3",
   "metadata": {},
   "outputs": [],
   "source": []
  }
 ],
 "metadata": {
  "kernelspec": {
   "display_name": "Python 3 (ipykernel)",
   "language": "python",
   "name": "python3"
  },
  "language_info": {
   "codemirror_mode": {
    "name": "ipython",
    "version": 3
   },
   "file_extension": ".py",
   "mimetype": "text/x-python",
   "name": "python",
   "nbconvert_exporter": "python",
   "pygments_lexer": "ipython3",
   "version": "3.9.12"
  }
 },
 "nbformat": 4,
 "nbformat_minor": 5
}
